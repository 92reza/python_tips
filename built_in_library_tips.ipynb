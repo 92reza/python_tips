{
 "cells": [
  {
   "cell_type": "markdown",
   "metadata": {},
   "source": [
    "# TABLE OF CONTENTS: <a id='toc'></a>\n",
    "\n",
    "These tips focus largely on built-in libraries that I think are good to know.\n",
    "\n",
    "I may not cover everything in each library.<br>\n",
    "Please go through official documentation if you want more thorough examples.\n",
    "\n",
    "All functions are operating under their default parameters.\n",
    "\n",
    "<b>Topics:</b>\n",
    " - <b>[Generators](#generators)</b>\n",
    " - <b>[Itertools](#itertools)</b>\n",
    "     - [Infinite itoratos](#infinite)\n",
    "     - [Iterators terminating on the shortest input sequence](#itotsis)\n",
    "     - [Combinatoric iterators](#combinatoric)\n",
    " - <b>[Collections](#collections)</b>\n",
    " - <b>[Functools](#functools)</b>\n",
    " - <b>[Datetime](#dt)</b>\n",
    " - <b>[Calendar](#calendar)<b>"
   ]
  },
  {
   "cell_type": "markdown",
   "metadata": {},
   "source": [
    "# Generators<a id='generators'></a>\n",
    "[Return to table of contents](#toc)\n",
    "\n",
    "Most functions process a collection of data first before returning the finished result. Generators remove iteration and temporary collection to store results."
   ]
  },
  {
   "cell_type": "code",
   "execution_count": null,
   "metadata": {},
   "outputs": [],
   "source": [
    "# Non generator function returning an operation on a list\n",
    "\n",
    "def non_generator(list_of_nums):\n",
    "    product_list = []\n",
    "    for i in list_of_nums:\n",
    "        product_list.append(i**i)\n",
    "    return product_list"
   ]
  },
  {
   "cell_type": "code",
   "execution_count": null,
   "metadata": {},
   "outputs": [],
   "source": [
    "# Iterates, stores in product_list and returns product_list.\n",
    "\n",
    "non_generator([1,2,3,4])"
   ]
  },
  {
   "cell_type": "code",
   "execution_count": null,
   "metadata": {},
   "outputs": [],
   "source": [
    "# Now using a generator\n",
    "\n",
    "def generator(list_of_nums):\n",
    "    for i in list_of_nums:\n",
    "        yield i**i"
   ]
  },
  {
   "cell_type": "code",
   "execution_count": null,
   "metadata": {},
   "outputs": [],
   "source": [
    "# Each time your generator is called upon using next, it will only then yield the result. \n",
    "# This will continue until your generator is exhausted.\n",
    "\n",
    "my_gen = generator([1,2,3,4])\n",
    "print(next(my_gen))\n",
    "print(next(my_gen))\n",
    "print(next(my_gen))\n",
    "print(next(my_gen))\n",
    "print(next(my_gen))"
   ]
  },
  {
   "cell_type": "code",
   "execution_count": null,
   "metadata": {},
   "outputs": [],
   "source": [
    "# You can also iterate over your generator\n",
    "\n",
    "for i in generator([1,2,3,4]):\n",
    "    print(i)"
   ]
  },
  {
   "cell_type": "markdown",
   "metadata": {},
   "source": [
    "# Itertools <a id=\"itertools\"></a>\n",
    "[Return to table of contents](#toc)\n",
    "\n",
    "<b>Please learn about generators first.</b>\n",
    "\n",
    "This module implements a number of iterator building blocks inspired by constructs from APL, Haskell, and SML. Each has been recast in a form suitable for Python.\n",
    "\n",
    "The module standardizes a core set of fast, memory efficient tools that are useful by themselves or in combination. Together, they form an “iterator algebra” making it possible to construct specialized tools succinctly and efficiently in pure Python.\n",
    "\n",
    "https://docs.python.org/3/library/itertools.html"
   ]
  },
  {
   "cell_type": "code",
   "execution_count": 1,
   "metadata": {},
   "outputs": [],
   "source": [
    "from itertools import *"
   ]
  },
  {
   "cell_type": "markdown",
   "metadata": {},
   "source": [
    "<b>Infinite itorators</b><br><a id=\"infinite\"></a>"
   ]
  },
  {
   "cell_type": "code",
   "execution_count": 29,
   "metadata": {},
   "outputs": [
    {
     "name": "stdout",
     "output_type": "stream",
     "text": [
      "0\n",
      "5\n",
      "10\n"
     ]
    }
   ],
   "source": [
    "'''count()\n",
    "\n",
    "This creates an iterable object that goes up by the step you specify.\n",
    "This will continuously yield increments of 5 i.e. 0, 5, 10, 15, 20...\n",
    "\n",
    "Do not use as a list.\n",
    "'''\n",
    "\n",
    "count_object = count(0, 5) # (start, step)\n",
    "\n",
    "print(next(count_object))\n",
    "print(next(count_object))\n",
    "print(next(count_object))\n"
   ]
  },
  {
   "cell_type": "code",
   "execution_count": 17,
   "metadata": {},
   "outputs": [
    {
     "name": "stdout",
     "output_type": "stream",
     "text": [
      "A\n",
      "B\n",
      "C\n",
      "D\n",
      "A\n"
     ]
    }
   ],
   "source": [
    "'''cycle()\n",
    "\n",
    "This creates an iterable object of what you pass in in an endless cycle.\n",
    "This will continuously yield, A B C D A B C D A B C D ...\n",
    "\n",
    "Do not use as a list.\n",
    "''' \n",
    "\n",
    "cycle_object = cycle('ABCD')\n",
    "\n",
    "print(next(cycle_object))\n",
    "print(next(cycle_object))\n",
    "print(next(cycle_object))\n",
    "print(next(cycle_object))\n",
    "print(next(cycle_object))"
   ]
  },
  {
   "cell_type": "code",
   "execution_count": 19,
   "metadata": {},
   "outputs": [
    {
     "name": "stdout",
     "output_type": "stream",
     "text": [
      "[10, 10, 10]\n",
      "['hello', 'hello', 'hello', 'hello']\n"
     ]
    }
   ],
   "source": [
    "'''repeat()\n",
    "\n",
    "Used to repeat an element up to n times.\n",
    "\n",
    "Does not work as intended as a generator\n",
    "'''\n",
    "\n",
    "print(list(repeat(10, 3)))\n",
    "print(list(repeat('hello',4)))"
   ]
  },
  {
   "cell_type": "markdown",
   "metadata": {},
   "source": [
    "<b>Iterators terminating on the shortest input sequence</b><a id=\"itotsis\"></a>"
   ]
  },
  {
   "cell_type": "code",
   "execution_count": 3,
   "metadata": {},
   "outputs": [
    {
     "data": {
      "text/plain": [
       "[1, 3, 6, 10, 15]"
      ]
     },
     "execution_count": 3,
     "metadata": {},
     "output_type": "execute_result"
    }
   ],
   "source": [
    "'''accumulate()\n",
    "\n",
    "Accumulate makes an iterator that returns accumulated sums\n",
    "Works similar to itertools.reduce() although only with addition\n",
    "\n",
    "Works as a generator.\n",
    "'''\n",
    "\n",
    "list(accumulate([1,2,3,4,5]))"
   ]
  },
  {
   "cell_type": "code",
   "execution_count": 41,
   "metadata": {},
   "outputs": [
    {
     "name": "stdout",
     "output_type": "stream",
     "text": [
      "1\n"
     ]
    }
   ],
   "source": [
    "accu_onj = accumulate([1,2,3,4,5])\n",
    "\n",
    "print(next(accu_onj))"
   ]
  },
  {
   "cell_type": "code",
   "execution_count": 25,
   "metadata": {},
   "outputs": [
    {
     "name": "stdout",
     "output_type": "stream",
     "text": [
      "['a', 'b', 'c', 'e', 'd', 'f', 'g', 'h', 'i', 'j', 'k', 'l']\n"
     ]
    }
   ],
   "source": [
    "'''chain() and chain.from_iterable()\n",
    "\n",
    "Chain makes an iterator that returns elements from the first iterable until it is exhausted,\n",
    "then proceeds to the next iterable, until all of the iterables are exhausted.\n",
    "Used for treating consecutive sequences as a single sequence.\n",
    "\n",
    "You can chain together lists, tuples, sets and strings\n",
    "\n",
    "Works as a generator\n",
    "'''\n",
    "\n",
    "print(list(chain(('a','b','c'), {'d','e','f'}, ['g','h','i'], 'jkl'))) "
   ]
  },
  {
   "cell_type": "code",
   "execution_count": 40,
   "metadata": {},
   "outputs": [
    {
     "name": "stdout",
     "output_type": "stream",
     "text": [
      "a\n"
     ]
    }
   ],
   "source": [
    "chain_obj = chain(('a','b','c'), {'d','e','f'}, ['g','h','i'], 'jkl')\n",
    "\n",
    "print(next(chain_obj))"
   ]
  },
  {
   "cell_type": "code",
   "execution_count": 32,
   "metadata": {},
   "outputs": [
    {
     "ename": "TypeError",
     "evalue": "from_iterable() takes exactly one argument (4 given)",
     "output_type": "error",
     "traceback": [
      "\u001b[0;31m---------------------------------------------------------------------------\u001b[0m",
      "\u001b[0;31mTypeError\u001b[0m                                 Traceback (most recent call last)",
      "\u001b[0;32m<ipython-input-32-a27a7999ff97>\u001b[0m in \u001b[0;36m<module>\u001b[0;34m()\u001b[0m\n\u001b[1;32m      5\u001b[0m ''' \n\u001b[1;32m      6\u001b[0m \u001b[0;34m\u001b[0m\u001b[0m\n\u001b[0;32m----> 7\u001b[0;31m \u001b[0mprint\u001b[0m\u001b[0;34m(\u001b[0m\u001b[0mlist\u001b[0m\u001b[0;34m(\u001b[0m\u001b[0mchain\u001b[0m\u001b[0;34m.\u001b[0m\u001b[0mfrom_iterable\u001b[0m\u001b[0;34m(\u001b[0m\u001b[0;34m(\u001b[0m\u001b[0;34m'a'\u001b[0m\u001b[0;34m,\u001b[0m\u001b[0;34m'b'\u001b[0m\u001b[0;34m,\u001b[0m\u001b[0;34m'c'\u001b[0m\u001b[0;34m)\u001b[0m\u001b[0;34m,\u001b[0m \u001b[0;34m{\u001b[0m\u001b[0;34m'd'\u001b[0m\u001b[0;34m,\u001b[0m\u001b[0;34m'e'\u001b[0m\u001b[0;34m,\u001b[0m\u001b[0;34m'f'\u001b[0m\u001b[0;34m}\u001b[0m\u001b[0;34m,\u001b[0m \u001b[0;34m[\u001b[0m\u001b[0;34m'g'\u001b[0m\u001b[0;34m,\u001b[0m\u001b[0;34m'h'\u001b[0m\u001b[0;34m,\u001b[0m\u001b[0;34m'i'\u001b[0m\u001b[0;34m]\u001b[0m\u001b[0;34m,\u001b[0m \u001b[0;34m'jkl'\u001b[0m\u001b[0;34m)\u001b[0m\u001b[0;34m)\u001b[0m\u001b[0;34m)\u001b[0m\u001b[0;34m\u001b[0m\u001b[0m\n\u001b[0m",
      "\u001b[0;31mTypeError\u001b[0m: from_iterable() takes exactly one argument (4 given)"
     ]
    }
   ],
   "source": [
    "'''chain.from_interable()\n",
    "\n",
    "Alternate constructor for chain(). Gets chained inputs from a single iterable argument that is evaluated lazily.\n",
    "''' \n",
    "\n",
    "print(list(chain.from_iterable(('a','b','c'), {'d','e','f'}, ['g','h','i'], 'jkl')))"
   ]
  },
  {
   "cell_type": "code",
   "execution_count": 31,
   "metadata": {},
   "outputs": [
    {
     "name": "stdout",
     "output_type": "stream",
     "text": [
      "['a', 'b', 'c', 'e', 'd', 'f', 'g', 'h', 'i', 'j', 'k', 'l']\n"
     ]
    }
   ],
   "source": [
    "print(list(chain.from_iterable([('a','b','c'), {'d','e','f'}, ['g','h','i'], 'jkl']))) # Now as a single argument"
   ]
  },
  {
   "cell_type": "code",
   "execution_count": 38,
   "metadata": {},
   "outputs": [
    {
     "data": {
      "text/plain": [
       "['A', 'C', 'E', 'F']"
      ]
     },
     "execution_count": 38,
     "metadata": {},
     "output_type": "execute_result"
    }
   ],
   "source": [
    "'''compress()\n",
    "\n",
    "Compress makes an iterator that filters elements from data returning\n",
    "only those that have a corresponding element in selectors that\n",
    "evaluates to True. Stops when either the data or selectors iterables has been exhausted\n",
    "\n",
    "Works as a generator.\n",
    "'''\n",
    "\n",
    "list(compress('ABCDEF', [1,0,1,0,1,1]))"
   ]
  },
  {
   "cell_type": "code",
   "execution_count": 39,
   "metadata": {},
   "outputs": [
    {
     "name": "stdout",
     "output_type": "stream",
     "text": [
      "A\n"
     ]
    }
   ],
   "source": [
    "compress_obj = compress('ABCDEF', [1,0,1,0,1,1])\n",
    "\n",
    "print(next(compress_obj))"
   ]
  },
  {
   "cell_type": "code",
   "execution_count": 59,
   "metadata": {},
   "outputs": [
    {
     "data": {
      "text/plain": [
       "[5, 6, 7, 8, 9]"
      ]
     },
     "execution_count": 59,
     "metadata": {},
     "output_type": "execute_result"
    }
   ],
   "source": [
    "'''dropwhile()\n",
    "\n",
    "Dropwhile makes an iterator that drops elements from the iterable\n",
    "as long as the predicate is true; afterwards, returns every element.\n",
    "\n",
    "Works as a generator.\n",
    "\n",
    "1 < 5 True won't return\n",
    "2 < 5 True won't return\n",
    "3 < 5 True won't return\n",
    "4 < 5 True won't return\n",
    "5 !< 5 False will return \n",
    "\n",
    "Now will return 5 and everything after.\n",
    "'''\n",
    "\n",
    "list(dropwhile(lambda x: x<5, [1,2,3,4,5,6,7,8,9]))"
   ]
  },
  {
   "cell_type": "code",
   "execution_count": 60,
   "metadata": {},
   "outputs": [
    {
     "name": "stdout",
     "output_type": "stream",
     "text": [
      "5\n"
     ]
    }
   ],
   "source": [
    "dropwhile_obj = dropwhile(lambda x: x<5, [1,2,3,4,5,6,7,8,9])\n",
    "\n",
    "print(next(dropwhile_obj))"
   ]
  },
  {
   "cell_type": "code",
   "execution_count": 61,
   "metadata": {},
   "outputs": [
    {
     "data": {
      "text/plain": [
       "[0, 2, 4, 6, 8]"
      ]
     },
     "execution_count": 61,
     "metadata": {},
     "output_type": "execute_result"
    }
   ],
   "source": [
    "'''filterflase()\n",
    "\n",
    "Makes an iterator that filters elements from iterable \n",
    "returning only those for which the predicate is False (0)\n",
    "\n",
    "Works as a generator.\n",
    "\n",
    "0 % 2 = 0 False will return\n",
    "1 % 2 = 1 True won't return\n",
    "2 % 2 = 0 False will return\n",
    "3 % 2 = 1 True won't return\n",
    "etc...\n",
    "'''\n",
    "\n",
    "list(filterfalse(lambda x: x%2, range(10)))"
   ]
  },
  {
   "cell_type": "code",
   "execution_count": 64,
   "metadata": {},
   "outputs": [
    {
     "name": "stdout",
     "output_type": "stream",
     "text": [
      "0\n"
     ]
    }
   ],
   "source": [
    "filterfalse_obj = filterfalse(lambda x: x%2, range(10))\n",
    "\n",
    "print(next(filterfalse_obj))"
   ]
  },
  {
   "cell_type": "code",
   "execution_count": 66,
   "metadata": {},
   "outputs": [
    {
     "data": {
      "text/plain": [
       "['A', 'B', 'C', 'D', 'A', 'B']"
      ]
     },
     "execution_count": 66,
     "metadata": {},
     "output_type": "execute_result"
    }
   ],
   "source": [
    "'''groupby()\n",
    "\n",
    "Makes an iterator that returns consecutive keys and groups from the iterable.\n",
    "\n",
    "The operation of groupby() is similar to the uniq filter in Unix.\n",
    "It generates a break or new group every time the value of the key function changes.\n",
    "\n",
    "Generally, the iterable needs to already be sorted on the same key function.\n",
    "'''\n",
    "\n",
    "[k for k, g in groupby('AAAABBBCCDAABBB')]"
   ]
  },
  {
   "cell_type": "code",
   "execution_count": 68,
   "metadata": {},
   "outputs": [
    {
     "data": {
      "text/plain": [
       "[['A', 'A', 'A', 'A'],\n",
       " ['B', 'B', 'B'],\n",
       " ['C', 'C'],\n",
       " ['D'],\n",
       " ['A', 'A'],\n",
       " ['B', 'B', 'B']]"
      ]
     },
     "execution_count": 68,
     "metadata": {},
     "output_type": "execute_result"
    }
   ],
   "source": [
    "# Using groupby like this will return the groups\n",
    "\n",
    "[list(g) for k, g in groupby('AAAABBBCCDAABBB')]"
   ]
  },
  {
   "cell_type": "code",
   "execution_count": 78,
   "metadata": {},
   "outputs": [
    {
     "name": "stdout",
     "output_type": "stream",
     "text": [
      "['A', 'B']\n",
      "['A', 'B']\n"
     ]
    }
   ],
   "source": [
    "'''islice()\n",
    "\n",
    "Very similar to calling the index in a string\n",
    "'''\n",
    "\n",
    "print(list(islice('ABCDEFG', 2)))\n",
    "\n",
    "# similar to\n",
    "\n",
    "print(list('ABCDEFG'[0:2]))"
   ]
  },
  {
   "cell_type": "code",
   "execution_count": 84,
   "metadata": {},
   "outputs": [
    {
     "name": "stdout",
     "output_type": "stream",
     "text": [
      "['C', 'D']\n",
      "['C', 'D']\n"
     ]
    }
   ],
   "source": [
    "print(list(islice('ABCDEFG', 2, 4)))\n",
    "\n",
    "# similar to\n",
    "\n",
    "print(list('ABCDEFG'[2:4]))"
   ]
  },
  {
   "cell_type": "code",
   "execution_count": 86,
   "metadata": {},
   "outputs": [
    {
     "name": "stdout",
     "output_type": "stream",
     "text": [
      "['C', 'D', 'E', 'F', 'G']\n",
      "['C', 'D', 'E', 'F', 'G']\n"
     ]
    }
   ],
   "source": [
    "print(list(islice('ABCDEFG', 2, None)))\n",
    "\n",
    "# similar to\n",
    "\n",
    "print(list('ABCDEFG'[2:]))"
   ]
  },
  {
   "cell_type": "code",
   "execution_count": 92,
   "metadata": {},
   "outputs": [
    {
     "name": "stdout",
     "output_type": "stream",
     "text": [
      "['A', 'C', 'E', 'G']\n",
      "['A', 'C', 'E', 'G']\n"
     ]
    }
   ],
   "source": [
    "print(list(islice('ABCDEFG', 0, None, 2)))\n",
    "\n",
    "# similar to\n",
    "\n",
    "print(list('ABCDEFG'[::2]))"
   ]
  },
  {
   "cell_type": "code",
   "execution_count": 6,
   "metadata": {},
   "outputs": [
    {
     "name": "stdout",
     "output_type": "stream",
     "text": [
      "[32, 9, 1000]\n",
      "[32, 9, 1000]\n"
     ]
    }
   ],
   "source": [
    "'''starmap()\n",
    "\n",
    "Makes an iterator that computes the function\n",
    "using arguments obtained from the iterable.\n",
    "\n",
    "'''\n",
    "print(list(starmap(pow, [(2,5), (3,2), (10,3)])))\n",
    "\n",
    "# similar to\n",
    "\n",
    "starmap_equivalent = [2**5, 3**2, 10**3]\n",
    "print(starmap_equivalent)"
   ]
  },
  {
   "cell_type": "code",
   "execution_count": null,
   "metadata": {},
   "outputs": [],
   "source": [
    "'''takewhile()\n",
    "\n",
    "'''"
   ]
  },
  {
   "cell_type": "code",
   "execution_count": null,
   "metadata": {},
   "outputs": [],
   "source": [
    "'''tee()\n",
    "\n",
    "'''"
   ]
  },
  {
   "cell_type": "code",
   "execution_count": null,
   "metadata": {},
   "outputs": [],
   "source": [
    "'''zip_longest()\n",
    "\n",
    "'''"
   ]
  },
  {
   "cell_type": "markdown",
   "metadata": {},
   "source": [
    "<b>Combinatoric iterators</b><a id=\"combinatoric\"></a>"
   ]
  },
  {
   "cell_type": "markdown",
   "metadata": {},
   "source": [
    "Product is the equivalent for-loops. Repeat lets you choose how many times to nest."
   ]
  },
  {
   "cell_type": "code",
   "execution_count": 16,
   "metadata": {},
   "outputs": [
    {
     "data": {
      "text/plain": [
       "[('A',), ('B',), ('C',), ('D',)]"
      ]
     },
     "execution_count": 16,
     "metadata": {},
     "output_type": "execute_result"
    }
   ],
   "source": [
    "'''\n",
    "Product ()\n",
    "\n",
    "Product is equivalent to for loops. Repeat lets you choose how many times to nest.\n",
    "'''\n",
    "\n",
    "# Single for loop\n",
    "list(product('ABCD', repeat=1))"
   ]
  },
  {
   "cell_type": "code",
   "execution_count": 15,
   "metadata": {},
   "outputs": [
    {
     "data": {
      "text/plain": [
       "[('A', 'B'), ('A', 'C'), ('A', 'D'), ('B', 'C'), ('B', 'D'), ('C', 'D')]"
      ]
     },
     "execution_count": 15,
     "metadata": {},
     "output_type": "execute_result"
    }
   ],
   "source": [
    "# Nested for-loop\n",
    "list(combinations('ABCD', 2))"
   ]
  },
  {
   "cell_type": "code",
   "execution_count": null,
   "metadata": {},
   "outputs": [],
   "source": [
    "'''\n",
    "combinations_with_replacement()\n",
    "\n",
    "'''"
   ]
  },
  {
   "cell_type": "code",
   "execution_count": null,
   "metadata": {},
   "outputs": [],
   "source": [
    "'''\n",
    "count()\n",
    "\n",
    "'''"
   ]
  },
  {
   "cell_type": "code",
   "execution_count": null,
   "metadata": {},
   "outputs": [],
   "source": [
    "'''\n",
    "accumulate()\n",
    "\n",
    "'''"
   ]
  },
  {
   "cell_type": "markdown",
   "metadata": {},
   "source": [
    "# Collections<a id=\"collections\"></a>\n",
    "[Return to table of contents](#toc)\n",
    "\n",
    "This module implements specialized container datatypes providing alternatives to Python’s general purpose built-in containers, dict, list, set, and tuple.\n",
    "\n",
    "https://docs.python.org/3/library/collections.html"
   ]
  },
  {
   "cell_type": "code",
   "execution_count": 4,
   "metadata": {},
   "outputs": [],
   "source": [
    "from collections import *"
   ]
  },
  {
   "cell_type": "code",
   "execution_count": null,
   "metadata": {},
   "outputs": [],
   "source": [
    "'''namedtuple()\n",
    "'''"
   ]
  },
  {
   "cell_type": "code",
   "execution_count": null,
   "metadata": {},
   "outputs": [],
   "source": [
    "'''deque'''"
   ]
  },
  {
   "cell_type": "code",
   "execution_count": null,
   "metadata": {},
   "outputs": [],
   "source": [
    "'''ChainMap\n",
    "'''"
   ]
  },
  {
   "cell_type": "code",
   "execution_count": null,
   "metadata": {},
   "outputs": [],
   "source": [
    "'''Counter\n",
    "'''"
   ]
  },
  {
   "cell_type": "code",
   "execution_count": null,
   "metadata": {},
   "outputs": [],
   "source": [
    "'''OrderedDict\n",
    "'''"
   ]
  },
  {
   "cell_type": "code",
   "execution_count": null,
   "metadata": {},
   "outputs": [],
   "source": [
    "'''defaultdict\n",
    "'''"
   ]
  },
  {
   "cell_type": "code",
   "execution_count": null,
   "metadata": {},
   "outputs": [],
   "source": [
    "'''UserDict\n",
    "'''"
   ]
  },
  {
   "cell_type": "code",
   "execution_count": null,
   "metadata": {},
   "outputs": [],
   "source": [
    "'''UserList\n",
    "'''"
   ]
  },
  {
   "cell_type": "code",
   "execution_count": null,
   "metadata": {},
   "outputs": [],
   "source": [
    "'''UserString\n",
    "'''"
   ]
  },
  {
   "cell_type": "markdown",
   "metadata": {},
   "source": [
    "# Functools<a id='functools'></a>\n",
    "[Return to table of contents](#toc)\n",
    "\n",
    "The functools module is for higher-order functions: functions that act on or return other functions. In general, any callable object can be treated as a function for the purposes of this module.\n",
    "\n",
    "https://docs.python.org/3/library/functools.html#functools.partial"
   ]
  },
  {
   "cell_type": "code",
   "execution_count": 5,
   "metadata": {},
   "outputs": [],
   "source": [
    "from functools import *"
   ]
  },
  {
   "cell_type": "code",
   "execution_count": 13,
   "metadata": {},
   "outputs": [],
   "source": [
    "'''\n",
    "Partial makes a new version of a function with one or more arguments already filled in. Used for quick access.\n",
    "\n",
    "Good resource https://www.pydanny.com/python-partials-are-fun.html\n",
    "'''\n",
    "\n",
    "# Initial function\n",
    "def student(first,last,grade):\n",
    "    print(first,last,grade)\n",
    "\n",
    "# Partial function\n",
    "freshman = partial(student, grade=10)"
   ]
  },
  {
   "cell_type": "code",
   "execution_count": 14,
   "metadata": {},
   "outputs": [
    {
     "name": "stdout",
     "output_type": "stream",
     "text": [
      "Joe Smith 10\n"
     ]
    }
   ],
   "source": [
    "freshman('Joe','Smith')"
   ]
  },
  {
   "cell_type": "code",
   "execution_count": 10,
   "metadata": {},
   "outputs": [
    {
     "data": {
      "text/plain": [
       "3628800"
      ]
     },
     "execution_count": 10,
     "metadata": {},
     "output_type": "execute_result"
    }
   ],
   "source": [
    "'''\n",
    "reduce()\n",
    "\n",
    "Reduce needs to be imported in Python3.x\n",
    "\n",
    "Reduce is a really useful function for performing some computation on a list and returning the result.\n",
    "It applies a rolling computation to sequential pairs of values in a list. This one is tricky.\n",
    "\n",
    "Easiest example to understnad is trying to multiply a whole list together i.e 1*2*3*4*5*6*7*8*9*10\n",
    "'''\n",
    "\n",
    "list_1 = list(range(1,11))\n",
    "\n",
    "reduce((lambda x, y: x * y), list_1) "
   ]
  },
  {
   "cell_type": "code",
   "execution_count": 11,
   "metadata": {},
   "outputs": [
    {
     "data": {
      "text/plain": [
       "10"
      ]
     },
     "execution_count": 11,
     "metadata": {},
     "output_type": "execute_result"
    }
   ],
   "source": [
    "# Another great example is using reduce to compare elements in a list against each other.\n",
    "\n",
    "reduce(lambda x, y: y if y > x else x, list_1) # Finding the largest number in the list"
   ]
  },
  {
   "cell_type": "code",
   "execution_count": 12,
   "metadata": {
    "scrolled": true
   },
   "outputs": [
    {
     "data": {
      "text/plain": [
       "1"
      ]
     },
     "execution_count": 12,
     "metadata": {},
     "output_type": "execute_result"
    }
   ],
   "source": [
    "reduce(lambda x, y: y if y < x else x, list_1) # Finding the smallest number in the list"
   ]
  },
  {
   "cell_type": "markdown",
   "metadata": {},
   "source": [
    "# Decorators<a id='decorators'></a>\n",
    "[Return to table of contents](#toc)"
   ]
  },
  {
   "cell_type": "code",
   "execution_count": null,
   "metadata": {},
   "outputs": [],
   "source": []
  },
  {
   "cell_type": "code",
   "execution_count": null,
   "metadata": {},
   "outputs": [],
   "source": []
  },
  {
   "cell_type": "code",
   "execution_count": null,
   "metadata": {},
   "outputs": [],
   "source": []
  },
  {
   "cell_type": "markdown",
   "metadata": {},
   "source": []
  },
  {
   "cell_type": "code",
   "execution_count": null,
   "metadata": {},
   "outputs": [],
   "source": []
  },
  {
   "cell_type": "code",
   "execution_count": 3,
   "metadata": {},
   "outputs": [],
   "source": []
  },
  {
   "cell_type": "markdown",
   "metadata": {},
   "source": [
    "# Datetime<a id='dt'></a>\n",
    "[Return to table of contents](#toc)\n",
    "\n",
    "The datetime module helps when manipulating time and date in Python with ease. \n",
    "\n",
    "https://docs.python.org/3/library/datetime.html"
   ]
  },
  {
   "cell_type": "code",
   "execution_count": 35,
   "metadata": {},
   "outputs": [],
   "source": [
    "from datetime import *"
   ]
  },
  {
   "cell_type": "code",
   "execution_count": 36,
   "metadata": {},
   "outputs": [
    {
     "data": {
      "text/plain": [
       "datetime.datetime(2018, 10, 8, 14, 41, 12, 607021)"
      ]
     },
     "execution_count": 36,
     "metadata": {},
     "output_type": "execute_result"
    }
   ],
   "source": [
    "'''datetime()\n",
    "\n",
    "Display the current time and date of your machine.\n",
    "A datetime object will return following attributes:\n",
    "year, month, day, hour, minute, seconds, micro-seconds.\n",
    "'''\n",
    "\n",
    "datetime.now()"
   ]
  },
  {
   "cell_type": "code",
   "execution_count": 37,
   "metadata": {},
   "outputs": [
    {
     "name": "stdout",
     "output_type": "stream",
     "text": [
      "Today is the 8 day of month 10, and the year is 2018!\n"
     ]
    }
   ],
   "source": [
    "now = datetime.now()\n",
    "\n",
    "# We can also extract only certain data as desired.\n",
    "\n",
    "now_year = now.year\n",
    "now_month = now.month\n",
    "now_day = now.day\n",
    "\n",
    "print('Today is the {} day of month {}, and the year is {}!'.format(now_day, now_month, now_year))"
   ]
  },
  {
   "cell_type": "code",
   "execution_count": 11,
   "metadata": {},
   "outputs": [
    {
     "name": "stdout",
     "output_type": "stream",
     "text": [
      "The current month is October.\n"
     ]
    }
   ],
   "source": [
    "'''strftime() \n",
    "\n",
    "Strftime formats datetime objects into readable strings\n",
    "\n",
    "The %B is how strftime knows to return the \n",
    "string of the current month in full.\n",
    "\n",
    "Useful cheatsheet for how to use strftime:\n",
    "https://devhints.io/strftime.\n",
    "'''\n",
    "\n",
    "print('The current month is {}.'.format(now_datetime_object.strftime('%B')))"
   ]
  },
  {
   "cell_type": "code",
   "execution_count": 42,
   "metadata": {},
   "outputs": [
    {
     "name": "stdout",
     "output_type": "stream",
     "text": [
      "Today's date is 08-10-2018. Be careful;\n",
      "It is not a datetimeobject anymore it is a <class 'str'>!\n"
     ]
    }
   ],
   "source": [
    "# strftime() can generally be used to format datetime objects.\n",
    "\n",
    "formatted = now_datetime_object.strftime('%d-%m-%Y')\n",
    "print('''Today's date is {}. Be careful;\n",
    "It's not a datetimeobject anymore it is a {}!'''\n",
    "      .format(formatted, type(formatted)))"
   ]
  },
  {
   "cell_type": "code",
   "execution_count": 43,
   "metadata": {
    "scrolled": true
   },
   "outputs": [
    {
     "name": "stdout",
     "output_type": "stream",
     "text": [
      "I started studying in university back in 21-10-2015,and I'll finish in 17-10-2018\n"
     ]
    }
   ],
   "source": [
    "'''timedelta()\n",
    "Used to get a date X days\\months\\etc from now.\n",
    "\n",
    "'''\n",
    "from datetime import timedelta\n",
    "\n",
    "''' School lasts about three years, \n",
    "so we calculate the time difference between\n",
    "starting university time and three years \n",
    "(or 3 * 52 weeks) from this time'''\n",
    "\n",
    "start_uni_time = datetime(2015, 10, 21)\n",
    "end_uni_time = start_uni_time + timedelta(weeks=52 * 3)\n",
    "\n",
    "print('''I started studying in university back in {},and I'll finish in {}'''\n",
    "      .format(start_uni_time.strftime('%d-%m-%Y'), end_uni_time.strftime('%d-%m-%Y')))"
   ]
  },
  {
   "cell_type": "markdown",
   "metadata": {},
   "source": [
    "# Calendar <a id=\"calendar\">\n",
    "[Return to table of contents](#toc)"
   ]
  },
  {
   "cell_type": "code",
   "execution_count": 16,
   "metadata": {},
   "outputs": [],
   "source": [
    "import calendar"
   ]
  }
 ],
 "metadata": {
  "kernelspec": {
   "display_name": "Python 3",
   "language": "python",
   "name": "python3"
  },
  "language_info": {
   "codemirror_mode": {
    "name": "ipython",
    "version": 3
   },
   "file_extension": ".py",
   "mimetype": "text/x-python",
   "name": "python",
   "nbconvert_exporter": "python",
   "pygments_lexer": "ipython3",
   "version": "3.6.6"
  }
 },
 "nbformat": 4,
 "nbformat_minor": 2
}
