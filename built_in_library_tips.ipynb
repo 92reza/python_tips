{
 "cells": [
  {
   "cell_type": "markdown",
   "metadata": {},
   "source": [
    "# TABLE OF CONTENTS: <a id='toc'></a>\n",
    "\n",
    "These tips focus largely on built-in libraries that I think are good to know.\n",
    "\n",
    "I may not cover everything in each library.<br>\n",
    "Please go through official documentation if you want more thorough examples.\n",
    "\n",
    "All functions are operating under their default parameters.\n",
    "\n",
    "[Great website](https://realpython.com)<br>\n",
    "[Great youtuber](https://www.youtube.com/channel/UCCezIgC97PvUuR4_gbFUs5g)\n",
    "\n",
    "<b>Topics:</b>\n",
    " - <b>[Generators](#generators)</b>\n",
    " - <b>[Itertools](#itertools)</b>\n",
    "     - [Infinite itoratos](#infinite)\n",
    "     - [Iterators terminating on the shortest input sequence](#itotsis)\n",
    "     - [Combinatoric iterators](#combinatoric)\n",
    " - <b>[Collections](#collections)</b>\n",
    " - <b>[Decorators](#decorators)</b>\n",
    " - <b>[Functools](#functools)</b>\n",
    " - <b>[Datetime](#dt)</b>"
   ]
  },
  {
   "cell_type": "markdown",
   "metadata": {},
   "source": [
    "# Generators<a id='generators'></a>\n",
    "[Return to table of contents](#toc)\n",
    "\n",
    "Most functions process a collection of data first before returning the finished result. Generators remove iteration and temporary collection to store results."
   ]
  },
  {
   "cell_type": "code",
   "execution_count": 1,
   "metadata": {},
   "outputs": [],
   "source": [
    "# Non generator function returning an operation on a list\n",
    "\n",
    "def non_generator(list_of_nums):\n",
    "    product_list = []\n",
    "    for i in list_of_nums:\n",
    "        product_list.append(i**i)\n",
    "    return product_list"
   ]
  },
  {
   "cell_type": "code",
   "execution_count": 2,
   "metadata": {},
   "outputs": [
    {
     "data": {
      "text/plain": [
       "[1, 4, 27, 256]"
      ]
     },
     "execution_count": 2,
     "metadata": {},
     "output_type": "execute_result"
    }
   ],
   "source": [
    "# Iterates, stores in product_list and returns product_list.\n",
    "\n",
    "non_generator([1,2,3,4])"
   ]
  },
  {
   "cell_type": "code",
   "execution_count": 3,
   "metadata": {},
   "outputs": [],
   "source": [
    "# Now using a generator\n",
    "\n",
    "def generator(list_of_nums):\n",
    "    for i in list_of_nums:\n",
    "        yield i**i"
   ]
  },
  {
   "cell_type": "code",
   "execution_count": 4,
   "metadata": {},
   "outputs": [
    {
     "name": "stdout",
     "output_type": "stream",
     "text": [
      "1\n",
      "4\n",
      "27\n",
      "256\n"
     ]
    }
   ],
   "source": [
    "# Each time your generator is called upon using next, it will only then yield the result. \n",
    "# This will continue until your generator is exhausted.\n",
    "\n",
    "my_gen = generator([1,2,3,4])\n",
    "print(next(my_gen))\n",
    "print(next(my_gen))\n",
    "print(next(my_gen))\n",
    "print(next(my_gen))\n",
    "# print(next(my_gen)) This will raise a StopIteration uncomment to run."
   ]
  },
  {
   "cell_type": "code",
   "execution_count": 5,
   "metadata": {},
   "outputs": [
    {
     "name": "stdout",
     "output_type": "stream",
     "text": [
      "1\n",
      "4\n",
      "27\n",
      "256\n"
     ]
    }
   ],
   "source": [
    "# You can also iterate over your generator\n",
    "\n",
    "for i in generator([1,2,3,4]):\n",
    "    print(i)"
   ]
  },
  {
   "cell_type": "markdown",
   "metadata": {},
   "source": [
    "# Itertools <a id=\"itertools\"></a>\n",
    "[Return to table of contents](#toc)\n",
    "\n",
    "<b>Please learn about generators first.</b>\n",
    "\n",
    "This module implements a number of iterator building blocks inspired by constructs from APL, Haskell, and SML. Each has been recast in a form suitable for Python.\n",
    "\n",
    "The module standardizes a core set of fast, memory efficient tools that are useful by themselves or in combination. Together, they form an “iterator algebra” making it possible to construct specialized tools succinctly and efficiently in pure Python.\n",
    "\n",
    "https://docs.python.org/3/library/itertools.html"
   ]
  },
  {
   "cell_type": "code",
   "execution_count": 6,
   "metadata": {},
   "outputs": [],
   "source": [
    "from itertools import *"
   ]
  },
  {
   "cell_type": "markdown",
   "metadata": {},
   "source": [
    "<b>Infinite itorators</b><br><a id=\"infinite\"></a>"
   ]
  },
  {
   "cell_type": "markdown",
   "metadata": {},
   "source": [
    "<u>Count</u>"
   ]
  },
  {
   "cell_type": "code",
   "execution_count": 7,
   "metadata": {},
   "outputs": [
    {
     "name": "stdout",
     "output_type": "stream",
     "text": [
      "0\n",
      "5\n",
      "10\n"
     ]
    }
   ],
   "source": [
    "'''count(start=0, step=1)\n",
    "\n",
    "This creates an iterable object that goes up by the step you specify.\n",
    "This will continuously yield increments of 5 i.e. 0, 5, 10, 15, 20...\n",
    "\n",
    "Do not use as a list.\n",
    "'''\n",
    "\n",
    "count_object = count(0, 5) # (start, step)\n",
    "\n",
    "print(next(count_object))\n",
    "print(next(count_object))\n",
    "print(next(count_object))\n"
   ]
  },
  {
   "cell_type": "markdown",
   "metadata": {},
   "source": [
    "<u>Cycle</u>"
   ]
  },
  {
   "cell_type": "code",
   "execution_count": 8,
   "metadata": {},
   "outputs": [
    {
     "name": "stdout",
     "output_type": "stream",
     "text": [
      "A\n",
      "B\n",
      "C\n",
      "D\n",
      "A\n"
     ]
    }
   ],
   "source": [
    "'''cycle(iterable)\n",
    "\n",
    "This creates an iterable object of what you pass in in an endless cycle.\n",
    "This will continuously yield, A B C D A B C D A B C D ...\n",
    "\n",
    "Do not use as a list.\n",
    "''' \n",
    "\n",
    "cycle_object = cycle('ABCD')\n",
    "\n",
    "print(next(cycle_object))\n",
    "print(next(cycle_object))\n",
    "print(next(cycle_object))\n",
    "print(next(cycle_object))\n",
    "print(next(cycle_object))"
   ]
  },
  {
   "cell_type": "markdown",
   "metadata": {},
   "source": [
    "<u>Repeat</u>"
   ]
  },
  {
   "cell_type": "code",
   "execution_count": 9,
   "metadata": {},
   "outputs": [
    {
     "name": "stdout",
     "output_type": "stream",
     "text": [
      "[10, 10, 10]\n",
      "['hello', 'hello', 'hello', 'hello']\n"
     ]
    }
   ],
   "source": [
    "'''repeat(object, times=None)\n",
    "\n",
    "Used to repeat an element up to n times.\n",
    "\n",
    "Works as a generator.\n",
    "'''\n",
    "\n",
    "print(list(repeat(10, 3)))\n",
    "print(list(repeat('hello',4)))"
   ]
  },
  {
   "cell_type": "code",
   "execution_count": 10,
   "metadata": {},
   "outputs": [
    {
     "name": "stdout",
     "output_type": "stream",
     "text": [
      "10\n"
     ]
    }
   ],
   "source": [
    "repeat_obj = repeat(10, 3)\n",
    "\n",
    "print(next(repeat_obj))"
   ]
  },
  {
   "cell_type": "markdown",
   "metadata": {},
   "source": [
    "<b>Iterators terminating on the shortest input sequence</b><a id=\"itotsis\"></a>"
   ]
  },
  {
   "cell_type": "markdown",
   "metadata": {},
   "source": [
    "<u>Accumulate</u>"
   ]
  },
  {
   "cell_type": "code",
   "execution_count": 11,
   "metadata": {},
   "outputs": [
    {
     "data": {
      "text/plain": [
       "[1, 3, 6, 10, 15]"
      ]
     },
     "execution_count": 11,
     "metadata": {},
     "output_type": "execute_result"
    }
   ],
   "source": [
    "'''accumulate(iterable, func=operator.add)\n",
    "\n",
    "Accumulate makes an iterator that returns accumulated sums\n",
    "Works similar to itertools.reduce() although only with addition\n",
    "\n",
    "Works as a generator.\n",
    "'''\n",
    "\n",
    "list(accumulate([1,2,3,4,5]))"
   ]
  },
  {
   "cell_type": "code",
   "execution_count": 12,
   "metadata": {},
   "outputs": [
    {
     "name": "stdout",
     "output_type": "stream",
     "text": [
      "1\n"
     ]
    }
   ],
   "source": [
    "accu_onj = accumulate([1,2,3,4,5])\n",
    "\n",
    "print(next(accu_onj))"
   ]
  },
  {
   "cell_type": "markdown",
   "metadata": {},
   "source": [
    "<u>Chain</u>"
   ]
  },
  {
   "cell_type": "code",
   "execution_count": 13,
   "metadata": {},
   "outputs": [
    {
     "name": "stdout",
     "output_type": "stream",
     "text": [
      "['a', 'b', 'c', 'f', 'e', 'd', 'g', 'h', 'i', 'j', 'k', 'l']\n"
     ]
    }
   ],
   "source": [
    "'''chain(*iterables)\n",
    "\n",
    "Chain makes an iterator that returns elements from the first iterable until it is exhausted,\n",
    "then proceeds to the next iterable, until all of the iterables are exhausted.\n",
    "Used for treating consecutive sequences as a single sequence.\n",
    "\n",
    "You can chain together lists, tuples, sets and strings\n",
    "\n",
    "Works as a generator\n",
    "'''\n",
    "\n",
    "print(list(chain(('a','b','c'), {'d','e','f'}, ['g','h','i'], 'jkl'))) "
   ]
  },
  {
   "cell_type": "code",
   "execution_count": 14,
   "metadata": {},
   "outputs": [
    {
     "name": "stdout",
     "output_type": "stream",
     "text": [
      "a\n"
     ]
    }
   ],
   "source": [
    "chain_obj = chain(('a','b','c'), {'d','e','f'}, ['g','h','i'], 'jkl')\n",
    "\n",
    "print(next(chain_obj))"
   ]
  },
  {
   "cell_type": "code",
   "execution_count": 15,
   "metadata": {},
   "outputs": [
    {
     "data": {
      "text/plain": [
       "'chain.from_interable(iterables)\\n\\nAlternate constructor for chain(). Gets chained inputs from a single \\niterable argument that is evaluated.\\n\\nWorks as a generator\\n'"
      ]
     },
     "execution_count": 15,
     "metadata": {},
     "output_type": "execute_result"
    }
   ],
   "source": [
    "'''chain.from_interable(iterables)\n",
    "\n",
    "Alternate constructor for chain(). Gets chained inputs from a single \n",
    "iterable argument that is evaluated.\n",
    "\n",
    "Works as a generator\n",
    "''' \n",
    "\n",
    "# This will raise a TypeError uncomment to run.\n",
    "\n",
    "# print(list(chain.from_iterable(('a','b','c'), {'d','e','f'}, ['g','h','i'], 'jkl')))"
   ]
  },
  {
   "cell_type": "code",
   "execution_count": 16,
   "metadata": {},
   "outputs": [
    {
     "name": "stdout",
     "output_type": "stream",
     "text": [
      "['a', 'b', 'c', 'f', 'e', 'd', 'g', 'h', 'i', 'j', 'k', 'l']\n"
     ]
    }
   ],
   "source": [
    "# Now with a single argument.\n",
    "\n",
    "print(list(chain.from_iterable([('a','b','c'), {'d','e','f'}, ['g','h','i'], 'jkl']))) # Now as a single argument"
   ]
  },
  {
   "cell_type": "markdown",
   "metadata": {},
   "source": [
    "<u>Compress</u>"
   ]
  },
  {
   "cell_type": "code",
   "execution_count": 17,
   "metadata": {},
   "outputs": [
    {
     "data": {
      "text/plain": [
       "['A', 'C', 'E', 'F']"
      ]
     },
     "execution_count": 17,
     "metadata": {},
     "output_type": "execute_result"
    }
   ],
   "source": [
    "'''compress(data, selectors)\n",
    "\n",
    "Compress makes an iterator that filters elements from data returning\n",
    "only those that have a corresponding element in selectors that\n",
    "evaluates to True. \n",
    "\n",
    "Stops when either the data or selectors iterables have been exhausted.\n",
    "\n",
    "Works as a generator.\n",
    "'''\n",
    "\n",
    "list(compress('ABCDEF', [1,0,1,0,1,1]))"
   ]
  },
  {
   "cell_type": "code",
   "execution_count": 18,
   "metadata": {},
   "outputs": [
    {
     "name": "stdout",
     "output_type": "stream",
     "text": [
      "A\n"
     ]
    }
   ],
   "source": [
    "compress_obj = compress('ABCDEF', [1,0,1,0,1,1])\n",
    "\n",
    "print(next(compress_obj))"
   ]
  },
  {
   "cell_type": "markdown",
   "metadata": {},
   "source": [
    "<u>Dropwhile</u>"
   ]
  },
  {
   "cell_type": "code",
   "execution_count": 19,
   "metadata": {},
   "outputs": [
    {
     "data": {
      "text/plain": [
       "[5, 6, 7, 8, 9]"
      ]
     },
     "execution_count": 19,
     "metadata": {},
     "output_type": "execute_result"
    }
   ],
   "source": [
    "'''dropwhile(predicate, iterable)\n",
    "\n",
    "Dropwhile makes an iterator that drops elements from the iterable\n",
    "as long as the predicate is true; afterwards, returns every element.\n",
    "\n",
    "Works as a generator.\n",
    "\n",
    "1 < 5 True won't return\n",
    "2 < 5 True won't return\n",
    "3 < 5 True won't return\n",
    "4 < 5 True won't return\n",
    "5 !< 5 False will return \n",
    "\n",
    "Now will return 5 and everything after.\n",
    "'''\n",
    "\n",
    "list(dropwhile(lambda x: x<5, [1,2,3,4,5,6,7,8,9]))"
   ]
  },
  {
   "cell_type": "code",
   "execution_count": 20,
   "metadata": {},
   "outputs": [
    {
     "name": "stdout",
     "output_type": "stream",
     "text": [
      "5\n"
     ]
    }
   ],
   "source": [
    "dropwhile_obj = dropwhile(lambda x: x<5, [1,2,3,4,5,6,7,8,9])\n",
    "\n",
    "print(next(dropwhile_obj))"
   ]
  },
  {
   "cell_type": "markdown",
   "metadata": {},
   "source": [
    "<u>Filterfalse</u>"
   ]
  },
  {
   "cell_type": "code",
   "execution_count": 21,
   "metadata": {},
   "outputs": [
    {
     "data": {
      "text/plain": [
       "[0, 2, 4, 6, 8]"
      ]
     },
     "execution_count": 21,
     "metadata": {},
     "output_type": "execute_result"
    }
   ],
   "source": [
    "'''filterfalse(predicate, iterable)\n",
    "\n",
    "Makes an iterator that filters elements from an iterable \n",
    "returning only those for which the predicate is False (0)\n",
    "\n",
    "Works as a generator.\n",
    "\n",
    "0 % 2 = 0 False will return\n",
    "1 % 2 = 1 True won't return\n",
    "2 % 2 = 0 False will return\n",
    "3 % 2 = 1 True won't return\n",
    "etc...\n",
    "'''\n",
    "\n",
    "list(filterfalse(lambda x: x%2, range(10)))"
   ]
  },
  {
   "cell_type": "code",
   "execution_count": 22,
   "metadata": {},
   "outputs": [
    {
     "name": "stdout",
     "output_type": "stream",
     "text": [
      "0\n"
     ]
    }
   ],
   "source": [
    "filterfalse_obj = filterfalse(lambda x: x%2, range(10))\n",
    "\n",
    "print(next(filterfalse_obj))"
   ]
  },
  {
   "cell_type": "markdown",
   "metadata": {},
   "source": [
    "<u>Groupby</u>"
   ]
  },
  {
   "cell_type": "code",
   "execution_count": 23,
   "metadata": {},
   "outputs": [
    {
     "data": {
      "text/plain": [
       "['A', 'B', 'C', 'D', 'A', 'B']"
      ]
     },
     "execution_count": 23,
     "metadata": {},
     "output_type": "execute_result"
    }
   ],
   "source": [
    "'''groupby(iterable, key=None)\n",
    "\n",
    "Makes an iterator that returns consecutive keys\n",
    "and groups from the iterable.\n",
    "\n",
    "The operation of groupby() is similar to the uniq filter in Unix.\n",
    "It generates a break or new group every time the value of the key\n",
    "function changes.\n",
    "\n",
    "Generally, the iterable needs to already be sorted on the same key function.\n",
    "'''\n",
    "\n",
    "# Only returns the individual elements\n",
    "\n",
    "[k for k, g in groupby('AAAABBBCCDAABBB')]"
   ]
  },
  {
   "cell_type": "code",
   "execution_count": 24,
   "metadata": {},
   "outputs": [
    {
     "data": {
      "text/plain": [
       "[['A', 'A', 'A', 'A'],\n",
       " ['B', 'B', 'B'],\n",
       " ['C', 'C'],\n",
       " ['D'],\n",
       " ['A', 'A'],\n",
       " ['B', 'B', 'B']]"
      ]
     },
     "execution_count": 24,
     "metadata": {},
     "output_type": "execute_result"
    }
   ],
   "source": [
    "# Using groupby like this will return the groups\n",
    "\n",
    "[list(g) for k, g in groupby('AAAABBBCCDAABBB')]"
   ]
  },
  {
   "cell_type": "markdown",
   "metadata": {},
   "source": [
    "<u>Islice</u>"
   ]
  },
  {
   "cell_type": "code",
   "execution_count": 25,
   "metadata": {},
   "outputs": [
    {
     "name": "stdout",
     "output_type": "stream",
     "text": [
      "['A', 'B']\n",
      "['A', 'B']\n"
     ]
    }
   ],
   "source": [
    "'''islice(iterable, *args)\n",
    "\n",
    "Very similar to calling the index in a string\n",
    "'''\n",
    "\n",
    "print(list(islice('ABCDEFG', 2)))\n",
    "\n",
    "# similar to\n",
    "\n",
    "print(list('ABCDEFG'[0:2]))"
   ]
  },
  {
   "cell_type": "code",
   "execution_count": 26,
   "metadata": {},
   "outputs": [
    {
     "name": "stdout",
     "output_type": "stream",
     "text": [
      "['C', 'D']\n",
      "['C', 'D']\n"
     ]
    }
   ],
   "source": [
    "print(list(islice('ABCDEFG', 2, 4)))\n",
    "\n",
    "# similar to\n",
    "\n",
    "print(list('ABCDEFG'[2:4]))"
   ]
  },
  {
   "cell_type": "code",
   "execution_count": 27,
   "metadata": {},
   "outputs": [
    {
     "name": "stdout",
     "output_type": "stream",
     "text": [
      "['C', 'D', 'E', 'F', 'G']\n",
      "['C', 'D', 'E', 'F', 'G']\n"
     ]
    }
   ],
   "source": [
    "print(list(islice('ABCDEFG', 2, None)))\n",
    "\n",
    "# similar to\n",
    "\n",
    "print(list('ABCDEFG'[2:]))"
   ]
  },
  {
   "cell_type": "code",
   "execution_count": 28,
   "metadata": {},
   "outputs": [
    {
     "name": "stdout",
     "output_type": "stream",
     "text": [
      "['A', 'C', 'E', 'G']\n",
      "['A', 'C', 'E', 'G']\n"
     ]
    }
   ],
   "source": [
    "print(list(islice('ABCDEFG', 0, None, 2)))\n",
    "\n",
    "# similar to\n",
    "\n",
    "print(list('ABCDEFG'[::2]))"
   ]
  },
  {
   "cell_type": "markdown",
   "metadata": {},
   "source": [
    "<u>Starmap</u>"
   ]
  },
  {
   "cell_type": "code",
   "execution_count": 29,
   "metadata": {},
   "outputs": [
    {
     "name": "stdout",
     "output_type": "stream",
     "text": [
      "[32, 9, 1000]\n",
      "[32, 9, 1000]\n"
     ]
    }
   ],
   "source": [
    "'''starmap(function, iterable)\n",
    "\n",
    "Makes an iterator that computes the function\n",
    "using arguments obtained from the iterable.\n",
    "\n",
    "\n",
    "Works as a generator.\n",
    "'''\n",
    "print(list(starmap(pow, [(2,5), (3,2), (10,3)])))\n",
    "\n",
    "# similar to\n",
    "\n",
    "starmap_equivalent = [2**5, 3**2, 10**3]\n",
    "print(starmap_equivalent)"
   ]
  },
  {
   "cell_type": "code",
   "execution_count": 30,
   "metadata": {
    "scrolled": true
   },
   "outputs": [
    {
     "name": "stdout",
     "output_type": "stream",
     "text": [
      "32\n"
     ]
    }
   ],
   "source": [
    "starmap_obj = starmap(pow, [(2,5), (3,2), (10,3)])\n",
    "\n",
    "print(next(starmap_obj))"
   ]
  },
  {
   "cell_type": "markdown",
   "metadata": {},
   "source": [
    "<u>Takewhile</u>"
   ]
  },
  {
   "cell_type": "code",
   "execution_count": 31,
   "metadata": {
    "scrolled": true
   },
   "outputs": [
    {
     "data": {
      "text/plain": [
       "[1, 4]"
      ]
     },
     "execution_count": 31,
     "metadata": {},
     "output_type": "execute_result"
    }
   ],
   "source": [
    "'''takewhile(predicate, iterable)\n",
    "\n",
    "Makes an iterator that returns elements \n",
    "from the iterable as long as the predicate is true.\n",
    "'''\n",
    "\n",
    "list(takewhile(lambda x: x<5, [1,4,6,4,1]))"
   ]
  },
  {
   "cell_type": "code",
   "execution_count": 32,
   "metadata": {},
   "outputs": [
    {
     "name": "stdout",
     "output_type": "stream",
     "text": [
      "1\n"
     ]
    }
   ],
   "source": [
    "takewhile_obj = takewhile(lambda x: x<5, [1,4,6,4,1])\n",
    "\n",
    "print(next(takewhile_obj))"
   ]
  },
  {
   "cell_type": "markdown",
   "metadata": {},
   "source": [
    "<u>Tee</u>"
   ]
  },
  {
   "cell_type": "code",
   "execution_count": 33,
   "metadata": {},
   "outputs": [
    {
     "name": "stdout",
     "output_type": "stream",
     "text": [
      "(<itertools._tee object at 0x109de5488>, <itertools._tee object at 0x109de5708>)\n"
     ]
    }
   ],
   "source": [
    "'''tee(iterable, n=2)\n",
    "\n",
    "This one is tricky, it will take the iterable that you give it \n",
    "and return a tuple of n iterables, which you can then iterate through. \n",
    "'''\n",
    "\n",
    "b = tee((1,2,3,4))\n",
    "print(b)"
   ]
  },
  {
   "cell_type": "code",
   "execution_count": 34,
   "metadata": {},
   "outputs": [
    {
     "name": "stdout",
     "output_type": "stream",
     "text": [
      "1\n",
      "2\n",
      "3\n",
      "4\n"
     ]
    }
   ],
   "source": [
    "for first in b[0]:\n",
    "    print(first)"
   ]
  },
  {
   "cell_type": "code",
   "execution_count": 35,
   "metadata": {
    "scrolled": true
   },
   "outputs": [
    {
     "name": "stdout",
     "output_type": "stream",
     "text": [
      "1\n",
      "2\n",
      "3\n",
      "4\n"
     ]
    }
   ],
   "source": [
    "for second in b[1]:\n",
    "    print(second)"
   ]
  },
  {
   "cell_type": "code",
   "execution_count": 36,
   "metadata": {
    "scrolled": true
   },
   "outputs": [],
   "source": [
    "# Will raise IndexError uncomment to run.\n",
    "\n",
    "# for third in b[2]:\n",
    "#     print(third)"
   ]
  },
  {
   "cell_type": "markdown",
   "metadata": {},
   "source": [
    "<u>Zip Longest</u>"
   ]
  },
  {
   "cell_type": "code",
   "execution_count": 37,
   "metadata": {},
   "outputs": [
    {
     "name": "stdout",
     "output_type": "stream",
     "text": [
      "[('A', 'x'), ('B', 'y'), ('C', '-'), ('D', '-')]\n",
      "[('A', 'x'), ('B', 'y'), ('C', 'z'), ('D', '-')]\n",
      "[('A', 'x'), ('B', 'y'), ('C', 'z'), ('D', 'a'), ('-', 'b')]\n"
     ]
    }
   ],
   "source": [
    "'''zip_longest(*iterables, fillvalue=None)\n",
    "\n",
    "Makes an iterator that aggregates elements from each of the iterables.\n",
    "If the iterables are of uneven length, missing values are filled-in \n",
    "with the fillvalue.\n",
    "\n",
    "Iteration continues until the longest iterable is exhausted.\n",
    "'''\n",
    "\n",
    "print(list(zip_longest('ABCD', 'xy', fillvalue='-')))\n",
    "\n",
    "print(list(zip_longest('ABCD', 'xyz', fillvalue='-')))\n",
    "\n",
    "print(list(zip_longest('ABCD', 'xyzab', fillvalue='-')))"
   ]
  },
  {
   "cell_type": "code",
   "execution_count": 38,
   "metadata": {},
   "outputs": [
    {
     "name": "stdout",
     "output_type": "stream",
     "text": [
      "('A', 'x')\n"
     ]
    }
   ],
   "source": [
    "zip_longest_obj = zip_longest('ABCD', 'xy', fillvalue='-')\n",
    "\n",
    "print(next(zip_longest_obj))"
   ]
  },
  {
   "cell_type": "markdown",
   "metadata": {},
   "source": [
    "<b>Combinatoric iterators</b><a id=\"combinatoric\"></a>"
   ]
  },
  {
   "cell_type": "markdown",
   "metadata": {},
   "source": [
    "<u>Product</u>"
   ]
  },
  {
   "cell_type": "code",
   "execution_count": 39,
   "metadata": {},
   "outputs": [
    {
     "data": {
      "text/plain": [
       "[('A',), ('B',), ('C',), ('D',)]"
      ]
     },
     "execution_count": 39,
     "metadata": {},
     "output_type": "execute_result"
    }
   ],
   "source": [
    "'''Product (*iterables, repeat=1)\n",
    "\n",
    "Product is equivalent to for loops. Repeat lets you choose how many times to nest.\n",
    "\n",
    "Works as a generator.\n",
    "'''\n",
    "\n",
    "# Single for loop\n",
    "list(product('ABCD', repeat=1))"
   ]
  },
  {
   "cell_type": "code",
   "execution_count": 40,
   "metadata": {},
   "outputs": [
    {
     "data": {
      "text/plain": [
       "[('A', 'A'),\n",
       " ('A', 'B'),\n",
       " ('A', 'C'),\n",
       " ('A', 'D'),\n",
       " ('B', 'A'),\n",
       " ('B', 'B'),\n",
       " ('B', 'C'),\n",
       " ('B', 'D'),\n",
       " ('C', 'A'),\n",
       " ('C', 'B'),\n",
       " ('C', 'C'),\n",
       " ('C', 'D'),\n",
       " ('D', 'A'),\n",
       " ('D', 'B'),\n",
       " ('D', 'C'),\n",
       " ('D', 'D')]"
      ]
     },
     "execution_count": 40,
     "metadata": {},
     "output_type": "execute_result"
    }
   ],
   "source": [
    "list(product('ABCD', repeat=2))"
   ]
  },
  {
   "cell_type": "code",
   "execution_count": 41,
   "metadata": {},
   "outputs": [
    {
     "name": "stdout",
     "output_type": "stream",
     "text": [
      "('A',)\n"
     ]
    }
   ],
   "source": [
    "product_object = product('ABCD', repeat=1)\n",
    "\n",
    "print(next(product_object))"
   ]
  },
  {
   "cell_type": "markdown",
   "metadata": {},
   "source": [
    "<u>Permuations</u>"
   ]
  },
  {
   "cell_type": "code",
   "execution_count": 42,
   "metadata": {
    "scrolled": true
   },
   "outputs": [
    {
     "data": {
      "text/plain": [
       "[('A', 'B'),\n",
       " ('A', 'C'),\n",
       " ('A', 'D'),\n",
       " ('B', 'A'),\n",
       " ('B', 'C'),\n",
       " ('B', 'D'),\n",
       " ('C', 'A'),\n",
       " ('C', 'B'),\n",
       " ('C', 'D'),\n",
       " ('D', 'A'),\n",
       " ('D', 'B'),\n",
       " ('D', 'C')]"
      ]
     },
     "execution_count": 42,
     "metadata": {},
     "output_type": "execute_result"
    }
   ],
   "source": [
    "'''permutations(iterable, r=None_\n",
    "\n",
    "Results all possible orderings, no repeated elements\n",
    "\n",
    "Works as a generator.\n",
    "'''\n",
    "\n",
    "list(permutations('ABCD', 2))"
   ]
  },
  {
   "cell_type": "code",
   "execution_count": 43,
   "metadata": {},
   "outputs": [
    {
     "name": "stdout",
     "output_type": "stream",
     "text": [
      "('A', 'B')\n"
     ]
    }
   ],
   "source": [
    "permutation_obj = permutations('ABCD', 2)\n",
    "\n",
    "print(next(permutation_obj))"
   ]
  },
  {
   "cell_type": "markdown",
   "metadata": {},
   "source": [
    "<u>Combinations</u>"
   ]
  },
  {
   "cell_type": "code",
   "execution_count": 44,
   "metadata": {},
   "outputs": [
    {
     "data": {
      "text/plain": [
       "[('A', 'B'), ('A', 'C'), ('A', 'D'), ('B', 'C'), ('B', 'D'), ('C', 'D')]"
      ]
     },
     "execution_count": 44,
     "metadata": {},
     "output_type": "execute_result"
    }
   ],
   "source": [
    "'''combinations(iterable, r)\n",
    "\n",
    "results in sorted order, no repeated elements\n",
    "\n",
    "Works as a generator.\n",
    "'''\n",
    "\n",
    "list(combinations('ABCD', 2))"
   ]
  },
  {
   "cell_type": "code",
   "execution_count": 45,
   "metadata": {},
   "outputs": [
    {
     "name": "stdout",
     "output_type": "stream",
     "text": [
      "('A', 'B')\n"
     ]
    }
   ],
   "source": [
    "combinations_obj = combinations('ABCD', 2)\n",
    "\n",
    "print(next(combinations_obj))"
   ]
  },
  {
   "cell_type": "markdown",
   "metadata": {},
   "source": [
    "<u>Combinations With Replacement</u>"
   ]
  },
  {
   "cell_type": "code",
   "execution_count": 46,
   "metadata": {
    "scrolled": true
   },
   "outputs": [
    {
     "data": {
      "text/plain": [
       "[('A', 'A'),\n",
       " ('A', 'B'),\n",
       " ('A', 'C'),\n",
       " ('A', 'D'),\n",
       " ('B', 'B'),\n",
       " ('B', 'C'),\n",
       " ('B', 'D'),\n",
       " ('C', 'C'),\n",
       " ('C', 'D'),\n",
       " ('D', 'D')]"
      ]
     },
     "execution_count": 46,
     "metadata": {},
     "output_type": "execute_result"
    }
   ],
   "source": [
    "'''combinations_with_replacement(iterable, r)\n",
    "\n",
    "Results in sorted order, with repeated elements\n",
    "The list should return with these additional elements:\n",
    "[('A', 'A'), ('B', 'B'), ('C', 'C'), ('D', 'D')]\n",
    "\n",
    "Works as a generator.\n",
    "'''\n",
    "\n",
    "list(combinations_with_replacement('ABCD', 2))"
   ]
  },
  {
   "cell_type": "code",
   "execution_count": 47,
   "metadata": {},
   "outputs": [
    {
     "name": "stdout",
     "output_type": "stream",
     "text": [
      "('A', 'A')\n"
     ]
    }
   ],
   "source": [
    "combinations_replace_obj = combinations_with_replacement('ABCD', 2)\n",
    "\n",
    "print(next(combinations_replace_obj))"
   ]
  },
  {
   "cell_type": "markdown",
   "metadata": {},
   "source": [
    "# Collections<a id=\"collections\"></a>\n",
    "[Return to table of contents](#toc)\n",
    "\n",
    "This module implements specialized container datatypes providing alternatives to Python’s general purpose built-in containers, dict, list, set, and tuple.\n",
    "\n",
    "https://docs.python.org/3/library/collections.html"
   ]
  },
  {
   "cell_type": "code",
   "execution_count": 48,
   "metadata": {},
   "outputs": [],
   "source": [
    "from collections import *"
   ]
  },
  {
   "cell_type": "markdown",
   "metadata": {},
   "source": [
    "<u>Namedtuple</u>"
   ]
  },
  {
   "cell_type": "code",
   "execution_count": 49,
   "metadata": {},
   "outputs": [],
   "source": [
    "'''namedtuple(typename, field_names, verbose=False, rename=False)\n",
    "\n",
    "Returns a new tuple subclass named typename. \n",
    "\n",
    "The new subclass is used to create tuple-like objects that can act like\n",
    "dictionaries and lists. Very good at being descriptive check \n",
    "the real world application below.\n",
    "\n",
    "._make          creates list like tuple\n",
    "\n",
    "._asdict()      creates dict like tuple\n",
    "\n",
    "._replace       Return a new instance of the named tuple \n",
    "                replacing specified fields with new values.\n",
    "\n",
    "._fields        Tuple of strings listing the field names. \n",
    "'''\n",
    "\n",
    "Point = namedtuple('Subclass', ['x', 'y'])"
   ]
  },
  {
   "cell_type": "code",
   "execution_count": 50,
   "metadata": {},
   "outputs": [
    {
     "name": "stdout",
     "output_type": "stream",
     "text": [
      "Subclass(x=11, y=22)\n",
      "Subclass(x=11, y=22)\n"
     ]
    }
   ],
   "source": [
    "# These create list like objects, iterable and indexable.\n",
    "\n",
    "# ._make\n",
    "\n",
    "print(Point(11,22))\n",
    "\n",
    "# Similar to\n",
    "\n",
    "t = [11,22]\n",
    "print(Point._make(t))"
   ]
  },
  {
   "cell_type": "code",
   "execution_count": 51,
   "metadata": {},
   "outputs": [
    {
     "data": {
      "text/plain": [
       "OrderedDict([('x', 11), ('y', 22)])"
      ]
     },
     "execution_count": 51,
     "metadata": {},
     "output_type": "execute_result"
    }
   ],
   "source": [
    "# ._asdict()\n",
    "\n",
    "Point(11,22)._asdict()"
   ]
  },
  {
   "cell_type": "code",
   "execution_count": 52,
   "metadata": {},
   "outputs": [
    {
     "data": {
      "text/plain": [
       "Subclass(x=33, y=22)"
      ]
     },
     "execution_count": 52,
     "metadata": {},
     "output_type": "execute_result"
    }
   ],
   "source": [
    "# ._replace\n",
    "\n",
    "p = Point(x=11, y=22)\n",
    "p._replace(x=33)"
   ]
  },
  {
   "cell_type": "code",
   "execution_count": 53,
   "metadata": {},
   "outputs": [
    {
     "data": {
      "text/plain": [
       "('x', 'y')"
      ]
     },
     "execution_count": 53,
     "metadata": {},
     "output_type": "execute_result"
    }
   ],
   "source": [
    "# ._fields\n",
    "\n",
    "p._fields"
   ]
  },
  {
   "cell_type": "code",
   "execution_count": 54,
   "metadata": {},
   "outputs": [
    {
     "data": {
      "text/plain": [
       "Color(red=255, green=255, blue=224)"
      ]
     },
     "execution_count": 54,
     "metadata": {},
     "output_type": "execute_result"
    }
   ],
   "source": [
    "# Real world application\n",
    "\n",
    "Color = namedtuple('Color', ['red','green','blue'])\n",
    "banana = Color(red=255, green=255, blue=224)\n",
    "\n",
    "banana"
   ]
  },
  {
   "cell_type": "markdown",
   "metadata": {},
   "source": [
    "<u>Deque</u>"
   ]
  },
  {
   "cell_type": "code",
   "execution_count": 55,
   "metadata": {},
   "outputs": [
    {
     "name": "stdout",
     "output_type": "stream",
     "text": [
      "deque([1, 2, 3])\n"
     ]
    }
   ],
   "source": [
    "'''deque\n",
    "deque([iterable[, maxlen]])\n",
    "\n",
    "Deques are a generalization of stacks and queues\n",
    "\n",
    "The name is pronounced “deck” and is short for\n",
    "“double-ended queue.\n",
    "\n",
    "Think of a deque as a list like container with \n",
    "fast appends and pops on either end.\n",
    "\n",
    "\n",
    "append(x)                 Add x to the right side of the deque.\n",
    "\n",
    "appendleft(x)             Add x to the left side of the deque.\n",
    "\n",
    "clear()                   Remove all elements from the deque \n",
    "                          leaving it with length 0.\n",
    "\n",
    "count(x)                  Count the number of deque elements equal to x.\n",
    "\n",
    "extend(iterable)          Extend the right side of the deque \n",
    "                          by appending elements from the iterable argument.\n",
    "\n",
    "extendleft(iterable)      Extend the left side of the deque by appending\n",
    "                          elements from iterable. Note, the series of \n",
    "                          left appends results in reversing the order \n",
    "                          of elements in the iterable argument.\n",
    "\n",
    "pop()                     Remove and return an element from the right \n",
    "                          side of the deque. If no elements are present, \n",
    "                          raises an IndexError.\n",
    "\n",
    "popleft()                 Remove and return an element from the left \n",
    "                          side of the deque. If no elements are present,\n",
    "                          raises an IndexError.\n",
    "\n",
    "remove(value)             Removed the first occurrence of value.\n",
    "                          If not found, raises a ValueError.\n",
    "\n",
    "reverse()                 Reverse the elements of the deque in-place\n",
    "                          and then return None.\n",
    "\n",
    "rotate(n)                 Rotate the deque n steps to the right.\n",
    "                          If n is negative, rotate to the left.\n",
    "                          Rotating one step to the right is equivalent to:\n",
    "                          d.appendleft(d.pop()).\n",
    "'''\n",
    "\n",
    "d = deque([1,2,3])\n",
    "\n",
    "print(d)"
   ]
  },
  {
   "cell_type": "code",
   "execution_count": 56,
   "metadata": {},
   "outputs": [
    {
     "name": "stdout",
     "output_type": "stream",
     "text": [
      "deque([1, 2, 3, 4])\n"
     ]
    }
   ],
   "source": [
    "# append()\n",
    "\n",
    "d.append(4)\n",
    "\n",
    "print(d)"
   ]
  },
  {
   "cell_type": "code",
   "execution_count": 57,
   "metadata": {},
   "outputs": [
    {
     "name": "stdout",
     "output_type": "stream",
     "text": [
      "deque([0, 1, 2, 3, 4])\n"
     ]
    }
   ],
   "source": [
    "# appendleft()\n",
    "\n",
    "d.appendleft(0) \n",
    "\n",
    "print(d)"
   ]
  },
  {
   "cell_type": "code",
   "execution_count": 58,
   "metadata": {},
   "outputs": [
    {
     "name": "stdout",
     "output_type": "stream",
     "text": [
      "deque([])\n"
     ]
    }
   ],
   "source": [
    "# clear()\n",
    "\n",
    "d.clear()\n",
    "\n",
    "print(d)"
   ]
  },
  {
   "cell_type": "code",
   "execution_count": 59,
   "metadata": {},
   "outputs": [
    {
     "name": "stdout",
     "output_type": "stream",
     "text": [
      "deque([1, 2, 3])\n"
     ]
    },
    {
     "data": {
      "text/plain": [
       "1"
      ]
     },
     "execution_count": 59,
     "metadata": {},
     "output_type": "execute_result"
    }
   ],
   "source": [
    "# count()\n",
    "d = deque([1,2,3])\n",
    "\n",
    "print(d)\n",
    "\n",
    "d.count(2)"
   ]
  },
  {
   "cell_type": "code",
   "execution_count": 60,
   "metadata": {},
   "outputs": [
    {
     "name": "stdout",
     "output_type": "stream",
     "text": [
      "deque([1, 2, 3, 4, 5, 6])\n"
     ]
    }
   ],
   "source": [
    "# entend()\n",
    "\n",
    "d.extend([4,5,6])\n",
    "\n",
    "print(d)"
   ]
  },
  {
   "cell_type": "code",
   "execution_count": 61,
   "metadata": {},
   "outputs": [
    {
     "name": "stdout",
     "output_type": "stream",
     "text": [
      "deque([-2, -1, 0, 1, 2, 3, 4, 5, 6])\n"
     ]
    }
   ],
   "source": [
    "# extendleft()\n",
    "\n",
    "d.extendleft([0,-1,-2])\n",
    "\n",
    "print(d)"
   ]
  },
  {
   "cell_type": "code",
   "execution_count": 62,
   "metadata": {},
   "outputs": [
    {
     "name": "stdout",
     "output_type": "stream",
     "text": [
      "6\n",
      "deque([-2, -1, 0, 1, 2, 3, 4, 5])\n"
     ]
    }
   ],
   "source": [
    "# pop()\n",
    "\n",
    "print(d.pop())\n",
    "\n",
    "print(d)"
   ]
  },
  {
   "cell_type": "code",
   "execution_count": 63,
   "metadata": {},
   "outputs": [
    {
     "name": "stdout",
     "output_type": "stream",
     "text": [
      "-2\n",
      "deque([-1, 0, 1, 2, 3, 4, 5])\n"
     ]
    }
   ],
   "source": [
    "# popleft()\n",
    "\n",
    "print(d.popleft())\n",
    "\n",
    "print(d)"
   ]
  },
  {
   "cell_type": "code",
   "execution_count": 64,
   "metadata": {},
   "outputs": [
    {
     "name": "stdout",
     "output_type": "stream",
     "text": [
      "deque([-1, 0, 1, 2, 3, 4, 5])\n",
      "deque([-1, 0, 1, 2, 3, 4])\n"
     ]
    }
   ],
   "source": [
    "# remove()\n",
    "\n",
    "print(d)\n",
    "\n",
    "d.remove(5)\n",
    "\n",
    "print(d)"
   ]
  },
  {
   "cell_type": "code",
   "execution_count": 65,
   "metadata": {},
   "outputs": [
    {
     "name": "stdout",
     "output_type": "stream",
     "text": [
      "deque([-1, 0, 1, 2, 3, 4])\n",
      "deque([4, 3, 2, 1, 0, -1])\n"
     ]
    }
   ],
   "source": [
    "# reverse()\n",
    "\n",
    "print(d)\n",
    "\n",
    "d.reverse()\n",
    "\n",
    "print(d)"
   ]
  },
  {
   "cell_type": "code",
   "execution_count": 66,
   "metadata": {},
   "outputs": [
    {
     "name": "stdout",
     "output_type": "stream",
     "text": [
      "deque([4, 3, 2, 1, 0, -1])\n",
      "deque([-1, 4, 3, 2, 1, 0])\n",
      "deque([4, 3, 2, 1, 0, -1])\n"
     ]
    }
   ],
   "source": [
    "# rotate(n) # You can adjust n\n",
    "\n",
    "print(d)\n",
    "\n",
    "d.rotate()  # Pushed the right most element to become the left most element.\n",
    "\n",
    "print(d)\n",
    "\n",
    "d.rotate(-1)  # Pushed the left most element to become the right most element.\n",
    "\n",
    "print(d)"
   ]
  },
  {
   "cell_type": "markdown",
   "metadata": {},
   "source": [
    "<u>ChainMap</u>"
   ]
  },
  {
   "cell_type": "code",
   "execution_count": 67,
   "metadata": {},
   "outputs": [
    {
     "data": {
      "text/plain": [
       "'ChainMap(*maps)\\n\\nA ChainMap class is provided for quickly linking\\na number of mappings so they can be treated as a single unit.\\nIt is often much faster than creating a new dictionary\\nand running multiple update() calls.\\n\\nIf there a key that is the same within the ChainMap object, \\nit will assign the value to the first instance of that key.\\n'"
      ]
     },
     "execution_count": 67,
     "metadata": {},
     "output_type": "execute_result"
    }
   ],
   "source": [
    "'''ChainMap(*maps)\n",
    "\n",
    "A ChainMap class is provided for quickly linking\n",
    "a number of mappings so they can be treated as a single unit.\n",
    "It is often much faster than creating a new dictionary\n",
    "and running multiple update() calls.\n",
    "\n",
    "If there a key that is the same within the ChainMap object, \n",
    "it will assign the value to the first instance of that key.\n",
    "'''"
   ]
  },
  {
   "cell_type": "code",
   "execution_count": 68,
   "metadata": {},
   "outputs": [],
   "source": [
    "dict1 = {'a':1,'b':2,'c':3}\n",
    "dict2 = {'c':4,'d':5,'e':6}\n",
    "\n",
    "chained = ChainMap(dict1,dict2)"
   ]
  },
  {
   "cell_type": "code",
   "execution_count": 69,
   "metadata": {},
   "outputs": [
    {
     "data": {
      "text/plain": [
       "2"
      ]
     },
     "execution_count": 69,
     "metadata": {},
     "output_type": "execute_result"
    }
   ],
   "source": [
    "chained['b']"
   ]
  },
  {
   "cell_type": "code",
   "execution_count": 70,
   "metadata": {
    "scrolled": true
   },
   "outputs": [
    {
     "data": {
      "text/plain": [
       "3"
      ]
     },
     "execution_count": 70,
     "metadata": {},
     "output_type": "execute_result"
    }
   ],
   "source": [
    "# Assigned 3 not 4 because dict1 was paased first.\n",
    "\n",
    "chained['c']"
   ]
  },
  {
   "cell_type": "markdown",
   "metadata": {},
   "source": [
    "<u>Counter</u>"
   ]
  },
  {
   "cell_type": "code",
   "execution_count": 71,
   "metadata": {},
   "outputs": [
    {
     "data": {
      "text/plain": [
       "Counter({1: 3, 2: 3, 3: 3, 5: 3, 7: 3, 4: 3, 9: 3})"
      ]
     },
     "execution_count": 71,
     "metadata": {},
     "output_type": "execute_result"
    }
   ],
   "source": [
    "'''Counter([iterable-or-mapping])\n",
    "\n",
    "It is an unordered collection where elements\n",
    "are stored as dictionary keys and their counts\n",
    "are stored as dictionary values.\n",
    "\n",
    "Keys are the elements in the list and \n",
    "the values are the number of occurences\n",
    "'''\n",
    "\n",
    "example_list = [1,1,1,2,2,2,3,3,3,5,5,5,7,7,7,4,4,4,9,9,9,]\n",
    "\n",
    "Counter(example_list)"
   ]
  },
  {
   "cell_type": "markdown",
   "metadata": {},
   "source": [
    "<u>OrderedDict</u>"
   ]
  },
  {
   "cell_type": "code",
   "execution_count": 72,
   "metadata": {},
   "outputs": [
    {
     "data": {
      "text/plain": [
       "'OrderedDict\\n\\n'"
      ]
     },
     "execution_count": 72,
     "metadata": {},
     "output_type": "execute_result"
    }
   ],
   "source": [
    "'''OrderedDict\n",
    "\n",
    "'''"
   ]
  },
  {
   "cell_type": "markdown",
   "metadata": {},
   "source": [
    "<u>DefaultDict</u>"
   ]
  },
  {
   "cell_type": "code",
   "execution_count": 73,
   "metadata": {},
   "outputs": [
    {
     "data": {
      "text/plain": [
       "'defaultdict\\n'"
      ]
     },
     "execution_count": 73,
     "metadata": {},
     "output_type": "execute_result"
    }
   ],
   "source": [
    "'''defaultdict\n",
    "'''"
   ]
  },
  {
   "cell_type": "markdown",
   "metadata": {},
   "source": [
    "<u>Userdict</u>"
   ]
  },
  {
   "cell_type": "code",
   "execution_count": 74,
   "metadata": {},
   "outputs": [
    {
     "data": {
      "text/plain": [
       "'UserDict\\n'"
      ]
     },
     "execution_count": 74,
     "metadata": {},
     "output_type": "execute_result"
    }
   ],
   "source": [
    "'''UserDict\n",
    "'''"
   ]
  },
  {
   "cell_type": "markdown",
   "metadata": {},
   "source": [
    "<u>Userlist</u>"
   ]
  },
  {
   "cell_type": "code",
   "execution_count": 75,
   "metadata": {},
   "outputs": [
    {
     "data": {
      "text/plain": [
       "'UserList\\n'"
      ]
     },
     "execution_count": 75,
     "metadata": {},
     "output_type": "execute_result"
    }
   ],
   "source": [
    "'''UserList\n",
    "'''"
   ]
  },
  {
   "cell_type": "markdown",
   "metadata": {},
   "source": [
    "<u>Userstring</u>"
   ]
  },
  {
   "cell_type": "code",
   "execution_count": 76,
   "metadata": {},
   "outputs": [
    {
     "data": {
      "text/plain": [
       "'UserString\\n'"
      ]
     },
     "execution_count": 76,
     "metadata": {},
     "output_type": "execute_result"
    }
   ],
   "source": [
    "'''UserString\n",
    "'''"
   ]
  },
  {
   "cell_type": "markdown",
   "metadata": {},
   "source": [
    "# Decorators<a id='decorators'></a>\n",
    "[Return to table of contents](#toc)\n",
    "\n",
    "A decorator in Python is any callable Python object that is used to modify a function or a class\n",
    "\n",
    "Decorators work like wrappers or first class function."
   ]
  },
  {
   "cell_type": "code",
   "execution_count": 77,
   "metadata": {},
   "outputs": [],
   "source": [
    "# Outer is the first class funcion.\n",
    "def outer(x):\n",
    "    message = x\n",
    "    \n",
    "    def inner():\n",
    "        print('<b>'+message+'</b>')\n",
    "    \n",
    "    return inner()"
   ]
  },
  {
   "cell_type": "code",
   "execution_count": 78,
   "metadata": {},
   "outputs": [
    {
     "name": "stdout",
     "output_type": "stream",
     "text": [
      "<b>hello</b>\n"
     ]
    }
   ],
   "source": [
    "outer('hello')"
   ]
  },
  {
   "cell_type": "markdown",
   "metadata": {},
   "source": [
    "Now using as a decorator"
   ]
  },
  {
   "cell_type": "code",
   "execution_count": 79,
   "metadata": {},
   "outputs": [],
   "source": [
    "def html_wrapper(function):\n",
    "    def wrap(code):\n",
    "        print(f'<p>{code}</p>')\n",
    "    return wrap"
   ]
  },
  {
   "cell_type": "code",
   "execution_count": 80,
   "metadata": {},
   "outputs": [],
   "source": [
    "@html_wrapper\n",
    "def need_to_wrap(code):\n",
    "    print(code)"
   ]
  },
  {
   "cell_type": "code",
   "execution_count": 81,
   "metadata": {},
   "outputs": [
    {
     "name": "stdout",
     "output_type": "stream",
     "text": [
      "<p>Wrap this paragraph</p>\n"
     ]
    }
   ],
   "source": [
    "need_to_wrap('Wrap this paragraph')"
   ]
  },
  {
   "cell_type": "code",
   "execution_count": 82,
   "metadata": {},
   "outputs": [],
   "source": [
    "@html_wrapper\n",
    "def need_to_wrap(code):\n",
    "    print(code)"
   ]
  },
  {
   "cell_type": "code",
   "execution_count": 83,
   "metadata": {},
   "outputs": [
    {
     "name": "stdout",
     "output_type": "stream",
     "text": [
      "<p>Using it again</p>\n"
     ]
    }
   ],
   "source": [
    "need_to_wrap('Using it again')"
   ]
  },
  {
   "cell_type": "code",
   "execution_count": 84,
   "metadata": {},
   "outputs": [
    {
     "name": "stdout",
     "output_type": "stream",
     "text": [
      "128\n",
      "32\n",
      "243\n"
     ]
    }
   ],
   "source": [
    "'''Example from \n",
    "https://realpython.com/inner-functions-what-are-they-good-for/\n",
    "'''\n",
    "\n",
    "def generate_power(exponent):\n",
    "    def decorator(f):\n",
    "        def inner(*args):\n",
    "            result = f(*args)\n",
    "            return exponent**result\n",
    "        return inner\n",
    "    return decorator\n",
    "\n",
    "@generate_power(2)\n",
    "def raise_two(n):\n",
    "    return n\n",
    "\n",
    "print(raise_two(7))  # 2**7\n",
    "print(raise_two(5))  # 2**5\n",
    "\n",
    "@generate_power(3)\n",
    "def raise_three(n):\n",
    "    return n\n",
    "\n",
    "print(raise_three(5))  # 3**5"
   ]
  },
  {
   "cell_type": "markdown",
   "metadata": {},
   "source": [
    "# Functools<a id='functools'></a>\n",
    "[Return to table of contents](#toc)\n",
    "\n",
    "The functools module is for higher-order functions: functions that act on or return other functions. In general, any callable object can be treated as a function for the purposes of this module.\n",
    "\n",
    "https://docs.python.org/3/library/functools.html#functools.partial"
   ]
  },
  {
   "cell_type": "code",
   "execution_count": 85,
   "metadata": {},
   "outputs": [],
   "source": [
    "from functools import *"
   ]
  },
  {
   "cell_type": "markdown",
   "metadata": {},
   "source": [
    "<u>Partial</u>"
   ]
  },
  {
   "cell_type": "code",
   "execution_count": 86,
   "metadata": {},
   "outputs": [],
   "source": [
    "'''Partial(func, *args, **keywords)\n",
    "\n",
    "Partial makes a new version of a function with one or more arguments already filled in. Used for quick access.\n",
    "\n",
    "Good resource https://www.pydanny.com/python-partials-are-fun.html\n",
    "'''\n",
    "\n",
    "# Initial function\n",
    "def student(first,last,grade):\n",
    "    print(first,last,grade)\n",
    "\n",
    "# Partial function\n",
    "freshman = partial(student, grade=10)"
   ]
  },
  {
   "cell_type": "code",
   "execution_count": 87,
   "metadata": {},
   "outputs": [
    {
     "name": "stdout",
     "output_type": "stream",
     "text": [
      "Joe Smith 10\n"
     ]
    }
   ],
   "source": [
    "freshman('Joe','Smith')"
   ]
  },
  {
   "cell_type": "code",
   "execution_count": 88,
   "metadata": {},
   "outputs": [
    {
     "data": {
      "text/plain": [
       "'partialmethod(func, *args, **keywords)\\n\\n\\n'"
      ]
     },
     "execution_count": 88,
     "metadata": {},
     "output_type": "execute_result"
    }
   ],
   "source": [
    "'''partialmethod(func, *args, **keywords)\n",
    "\n",
    "\n",
    "'''"
   ]
  },
  {
   "cell_type": "markdown",
   "metadata": {},
   "source": [
    "<u>Reduce</u>"
   ]
  },
  {
   "cell_type": "code",
   "execution_count": 89,
   "metadata": {},
   "outputs": [
    {
     "data": {
      "text/plain": [
       "3628800"
      ]
     },
     "execution_count": 89,
     "metadata": {},
     "output_type": "execute_result"
    }
   ],
   "source": [
    "'''reduce()\n",
    "Arguments/Defaults: (function, iterable, initializer=None)\n",
    "\n",
    "Reduce needs to be imported in Python3.x\n",
    "\n",
    "Reduce is a really useful function for performing some computation on a list and returning the result.\n",
    "It applies a rolling computation to sequential pairs of values in a list. This one is tricky.\n",
    "\n",
    "Easiest example to understnad is trying to multiply a whole list together i.e 1*2*3*4*5*6*7*8*9*10\n",
    "'''\n",
    "\n",
    "list_1 = list(range(1,11))\n",
    "\n",
    "reduce((lambda x, y: x * y), list_1) "
   ]
  },
  {
   "cell_type": "code",
   "execution_count": 90,
   "metadata": {},
   "outputs": [
    {
     "data": {
      "text/plain": [
       "10"
      ]
     },
     "execution_count": 90,
     "metadata": {},
     "output_type": "execute_result"
    }
   ],
   "source": [
    "# Another great example is using reduce to compare elements in a list against each other.\n",
    "\n",
    "reduce(lambda x, y: y if y > x else x, list_1) # Finding the largest number in the list"
   ]
  },
  {
   "cell_type": "code",
   "execution_count": 91,
   "metadata": {
    "scrolled": true
   },
   "outputs": [
    {
     "data": {
      "text/plain": [
       "1"
      ]
     },
     "execution_count": 91,
     "metadata": {},
     "output_type": "execute_result"
    }
   ],
   "source": [
    "reduce(lambda x, y: y if y < x else x, list_1) # Finding the smallest number in the list"
   ]
  },
  {
   "cell_type": "markdown",
   "metadata": {},
   "source": [
    "# Datetime<a id='dt'></a>\n",
    "[Return to table of contents](#toc)\n",
    "\n",
    "The datetime module helps when manipulating time and date in Python with ease. \n",
    "\n",
    "https://docs.python.org/3/library/datetime.html"
   ]
  },
  {
   "cell_type": "code",
   "execution_count": 92,
   "metadata": {},
   "outputs": [],
   "source": [
    "from datetime import *"
   ]
  },
  {
   "cell_type": "code",
   "execution_count": 93,
   "metadata": {},
   "outputs": [
    {
     "data": {
      "text/plain": [
       "datetime.datetime(2018, 10, 9, 16, 32, 52, 450932)"
      ]
     },
     "execution_count": 93,
     "metadata": {},
     "output_type": "execute_result"
    }
   ],
   "source": [
    "'''datetime()\n",
    "\n",
    "Display the current time and date of your machine.\n",
    "A datetime object will return following attributes:\n",
    "year, month, day, hour, minute, seconds, micro-seconds.\n",
    "'''\n",
    "\n",
    "datetime.now()"
   ]
  },
  {
   "cell_type": "code",
   "execution_count": 94,
   "metadata": {
    "scrolled": true
   },
   "outputs": [
    {
     "name": "stdout",
     "output_type": "stream",
     "text": [
      "Today is the 9 day of month 10, and the year is 2018!\n"
     ]
    }
   ],
   "source": [
    "now = datetime.now()\n",
    "\n",
    "# We can also extract only certain data as desired.\n",
    "\n",
    "now_year = now.year\n",
    "now_month = now.month\n",
    "now_day = now.day\n",
    "\n",
    "print('Today is the {} day of month {}, and the year is {}!'\n",
    "      .format(now_day, now_month, now_year))"
   ]
  },
  {
   "cell_type": "markdown",
   "metadata": {},
   "source": [
    "<u>Strftime</u>"
   ]
  },
  {
   "cell_type": "code",
   "execution_count": 95,
   "metadata": {},
   "outputs": [
    {
     "name": "stdout",
     "output_type": "stream",
     "text": [
      "The current month is October.\n"
     ]
    }
   ],
   "source": [
    "'''strftime() \n",
    "\n",
    "Strftime formats datetime objects into readable strings\n",
    "\n",
    "The %B is how strftime knows to return the \n",
    "string of the current month in full.\n",
    "\n",
    "Useful cheatsheet for how to use strftime:\n",
    "https://devhints.io/strftime.\n",
    "'''\n",
    "\n",
    "print('The current month is {}.'.format(now.strftime('%B')))"
   ]
  },
  {
   "cell_type": "code",
   "execution_count": 96,
   "metadata": {},
   "outputs": [
    {
     "name": "stdout",
     "output_type": "stream",
     "text": [
      "Today's date is 09-10-2018. Be careful;\n",
      "It's not a datetimeobject anymore it is a <class 'str'>!\n"
     ]
    }
   ],
   "source": [
    "# strftime() can generally be used to format datetime objects.\n",
    "\n",
    "formatted = now.strftime('%d-%m-%Y')\n",
    "print('''Today's date is {}. Be careful;\n",
    "It's not a datetimeobject anymore it is a {}!'''\n",
    "      .format(formatted, type(formatted)))"
   ]
  },
  {
   "cell_type": "markdown",
   "metadata": {},
   "source": [
    "<u>Timedelta</u>"
   ]
  },
  {
   "cell_type": "code",
   "execution_count": 97,
   "metadata": {
    "scrolled": true
   },
   "outputs": [
    {
     "name": "stdout",
     "output_type": "stream",
     "text": [
      "I started studying in university back in 21-10-2015,and I'll finish in 17-10-2018\n"
     ]
    }
   ],
   "source": [
    "'''timedelta()\n",
    "Used to get a date X days\\months\\etc from now.\n",
    "\n",
    "'''\n",
    "from datetime import timedelta\n",
    "\n",
    "''' School lasts about three years, \n",
    "so we calculate the time difference between\n",
    "starting university time and three years \n",
    "(or 3 * 52 weeks) from this time'''\n",
    "\n",
    "start_uni_time = datetime(2015, 10, 21)\n",
    "end_uni_time = start_uni_time + timedelta(weeks=52 * 3)\n",
    "\n",
    "print('''I started studying in university back in {},and I'll finish in {}'''\n",
    "      .format(start_uni_time.strftime('%d-%m-%Y'), end_uni_time.strftime('%d-%m-%Y')))"
   ]
  }
 ],
 "metadata": {
  "kernelspec": {
   "display_name": "Python 3",
   "language": "python",
   "name": "python3"
  },
  "language_info": {
   "codemirror_mode": {
    "name": "ipython",
    "version": 3
   },
   "file_extension": ".py",
   "mimetype": "text/x-python",
   "name": "python",
   "nbconvert_exporter": "python",
   "pygments_lexer": "ipython3",
   "version": "3.6.6"
  }
 },
 "nbformat": 4,
 "nbformat_minor": 2
}
