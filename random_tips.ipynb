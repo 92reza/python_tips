{
 "cells": [
  {
   "cell_type": "markdown",
   "metadata": {},
   "source": [
    "# Random Tips\n",
    "\n",
    "Random tips and useful things I've come across that did not fit the other notebooks."
   ]
  },
  {
   "cell_type": "code",
   "execution_count": 1,
   "metadata": {},
   "outputs": [
    {
     "name": "stdout",
     "output_type": "stream",
     "text": [
      "[2, 3, 4, 5, 6]\n",
      "[1, 3, 4, 5, 6]\n",
      "[1, 2, 4, 5, 6]\n",
      "[1, 2, 3, 5, 6]\n",
      "[1, 2, 3, 4, 6]\n",
      "[1, 2, 3, 4, 5]\n"
     ]
    }
   ],
   "source": [
    "# Iterating through an array excluding the iteration you are on.\n",
    "\n",
    "arr = [1,2,3,4,5,6]\n",
    "\n",
    "for i in range(len(arr)):\n",
    "    print(arr[:i] + arr[i+1:])"
   ]
  },
  {
   "cell_type": "code",
   "execution_count": 2,
   "metadata": {},
   "outputs": [
    {
     "data": {
      "text/plain": [
       "{1: 2, 2: 1, 3: 1, 4: 2, 6: 3, 7: 2, 8: 1, 9: 5}"
      ]
     },
     "execution_count": 2,
     "metadata": {},
     "output_type": "execute_result"
    }
   ],
   "source": [
    "# Fastest way and most effient way to count elements in a list.\n",
    "\n",
    "elements = {}\n",
    "\n",
    "arr = [1,1,2,3,4,4,6,6,6,7,7,8,9,9,9,9,9]\n",
    "\n",
    "for i in arr:\n",
    "    elements[i] = elements.get(i, 0) + 1 # .get() checks for a key, if the key isn't there create one with a default value\n",
    "    \n",
    "elements"
   ]
  }
 ],
 "metadata": {
  "kernelspec": {
   "display_name": "Python 3",
   "language": "python",
   "name": "python3"
  },
  "language_info": {
   "codemirror_mode": {
    "name": "ipython",
    "version": 3
   },
   "file_extension": ".py",
   "mimetype": "text/x-python",
   "name": "python",
   "nbconvert_exporter": "python",
   "pygments_lexer": "ipython3",
   "version": "3.6.5"
  }
 },
 "nbformat": 4,
 "nbformat_minor": 2
}
